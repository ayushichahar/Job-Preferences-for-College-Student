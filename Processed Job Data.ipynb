{
 "cells": [
  {
   "cell_type": "markdown",
   "id": "0dbabbcd-e23e-42a3-a51f-1c8fd5bd3a3c",
   "metadata": {},
   "source": [
    "# Import Libraries"
   ]
  },
  {
   "cell_type": "code",
   "execution_count": 2,
   "id": "c573e34a-3768-429a-8a23-516cce052e7c",
   "metadata": {},
   "outputs": [
    {
     "name": "stdout",
     "output_type": "stream",
     "text": [
      "showing info https://raw.githubusercontent.com/nltk/nltk_data/gh-pages/index.xml\n"
     ]
    }
   ],
   "source": [
    "import numpy as np \n",
    "import pandas as pd\n",
    "import warnings \n",
    "#import nltk\n",
    "#nltk.download()\n",
    "import re"
   ]
  },
  {
   "cell_type": "markdown",
   "id": "0c33f75d-0664-44e2-a8b4-477fa5ad044e",
   "metadata": {},
   "source": [
    "## Upload Unprocessed CSV file"
   ]
  },
  {
   "cell_type": "code",
   "execution_count": 4,
   "id": "73047a4c-93ff-4853-88bc-cdc20e0640e9",
   "metadata": {},
   "outputs": [],
   "source": [
    "df = pd.read_csv('Unprocessed Job Data.csv', sep=\";\", encoding='latin-1', escapechar='\\\\')"
   ]
  },
  {
   "cell_type": "code",
   "execution_count": 6,
   "id": "73581a21-f453-42e8-9423-3177bd6d944d",
   "metadata": {},
   "outputs": [
    {
     "data": {
      "text/html": [
       "<div>\n",
       "<style scoped>\n",
       "    .dataframe tbody tr th:only-of-type {\n",
       "        vertical-align: middle;\n",
       "    }\n",
       "\n",
       "    .dataframe tbody tr th {\n",
       "        vertical-align: top;\n",
       "    }\n",
       "\n",
       "    .dataframe thead th {\n",
       "        text-align: right;\n",
       "    }\n",
       "</style>\n",
       "<table border=\"1\" class=\"dataframe\">\n",
       "  <thead>\n",
       "    <tr style=\"text-align: right;\">\n",
       "      <th></th>\n",
       "      <th>Job_title</th>\n",
       "      <th>Company_name</th>\n",
       "      <th>Location</th>\n",
       "      <th>Salary_fork</th>\n",
       "      <th>Rating</th>\n",
       "      <th>Company_Overview</th>\n",
       "      <th>Job_description</th>\n",
       "      <th>Avg_base_salary,,,,,,,,,,,,,,,,,,,,,,,,,,,,,,,,,,,,,,,,,,,,,,,,,,,,,,,,,,,,,,,,,,,,,,,,,,,,,,,,,,,,,,,,,,,,,,,,,,,,,,,,,,,,,,,,,,,,,,,,,,,,,,,,,,,,,,,,,,,,,,,,,,,,,,,,,,,,,,,,,,,,,,,,,,,,,,,,,,,,,,,,,,,,,,,,,,,,,,,,,,,,,,,</th>\n",
       "    </tr>\n",
       "  </thead>\n",
       "  <tbody>\n",
       "    <tr>\n",
       "      <th>0</th>\n",
       "      <td>Data Engineer Flink</td>\n",
       "      <td>Egrove Systems Corporation</td>\n",
       "      <td>Dallas, TX</td>\n",
       "      <td>Employer Provided Salary:$51.83 Per Hour</td>\n",
       "      <td>4.4</td>\n",
       "      <td>Company Overview,,,,,,,,,,,,,,,,,,,,,,,,,,,,,,...</td>\n",
       "      <td>Java, Bigdata, Azure &amp; Flink,,,,,,,,,,,,,,,,,,...</td>\n",
       "      <td>Average Base Salary Estimate,,,,,,,,,,,,,,,,,,...</td>\n",
       "    </tr>\n",
       "    <tr>\n",
       "      <th>1</th>\n",
       "      <td>Data Engineer</td>\n",
       "      <td>Overstock.com Inc.</td>\n",
       "      <td>Remote</td>\n",
       "      <td>Employer Provided Salary:$87K - $108K</td>\n",
       "      <td>3.1</td>\n",
       "      <td>Company Overview,,,,,,,,,,,,,,,,,,,,,,,,,,,,,,...</td>\n",
       "      <td>We Are Overstock:,,,,,,,,,,,,,,,,,,,,,,,,,,,,,...</td>\n",
       "      <td>Average Base Salary Estimate,,,,,,,,,,,,,,,,,,...</td>\n",
       "    </tr>\n",
       "    <tr>\n",
       "      <th>2</th>\n",
       "      <td>Data Engineer I</td>\n",
       "      <td>Nucor Business Technology</td>\n",
       "      <td>Charlotte, NC</td>\n",
       "      <td>$67K - $86K (Glassdoor est.)</td>\n",
       "      <td>3.9</td>\n",
       "      <td>Company Overview,,,,,,,,,,,,,,,,,,,,,,,,,,,,,,...</td>\n",
       "      <td>Job Details,,,,,,,,,,,,,,,,,,,,,,,,,,,,,,,,,,,...</td>\n",
       "      <td>Average Base Salary Estimate,,,,,,,,,,,,,,,,,,...</td>\n",
       "    </tr>\n",
       "    <tr>\n",
       "      <th>3</th>\n",
       "      <td>Data Engineer 1</td>\n",
       "      <td>Kagr Llc</td>\n",
       "      <td>Foxborough, MA</td>\n",
       "      <td>$70K - $98K (Glassdoor est.)</td>\n",
       "      <td>3.4</td>\n",
       "      <td>Company Overview,,,,,,,,,,,,,,,,,,,,,,,,,,,,,,...</td>\n",
       "      <td>SUMMARY:,,,,,,,,,,,,,,,,,,,,,,,,,,,,,,,,,,,,,,...</td>\n",
       "      <td>Average Base Salary Estimate,,,,,,,,,,,,,,,,,,...</td>\n",
       "    </tr>\n",
       "    <tr>\n",
       "      <th>4</th>\n",
       "      <td>BI Data &amp; Visualization Engineer 1</td>\n",
       "      <td>G&amp;J Pepsi-Cola Bottlers</td>\n",
       "      <td>Columbus, OH</td>\n",
       "      <td>$65K - $96K (Glassdoor est.)</td>\n",
       "      <td>3.6</td>\n",
       "      <td>Company Overview,,,,,,,,,,,,,,,,,,,,,,,,,,,,,,...</td>\n",
       "      <td>Key Responsibilities,,,,,,,,,,,,,,,,,,,,,,,,,,...</td>\n",
       "      <td>Average Base Salary Estimate,,,,,,,,,,,,,,,,,,...</td>\n",
       "    </tr>\n",
       "  </tbody>\n",
       "</table>\n",
       "</div>"
      ],
      "text/plain": [
       "                            Job_title                Company_name  \\\n",
       "0                 Data Engineer Flink  Egrove Systems Corporation   \n",
       "1                       Data Engineer          Overstock.com Inc.   \n",
       "2                     Data Engineer I   Nucor Business Technology   \n",
       "3                     Data Engineer 1                    Kagr Llc   \n",
       "4  BI Data & Visualization Engineer 1     G&J Pepsi-Cola Bottlers   \n",
       "\n",
       "         Location                               Salary_fork Rating  \\\n",
       "0      Dallas, TX  Employer Provided Salary:$51.83 Per Hour    4.4   \n",
       "1          Remote     Employer Provided Salary:$87K - $108K    3.1   \n",
       "2   Charlotte, NC              $67K - $86K (Glassdoor est.)    3.9   \n",
       "3  Foxborough, MA              $70K - $98K (Glassdoor est.)    3.4   \n",
       "4    Columbus, OH              $65K - $96K (Glassdoor est.)    3.6   \n",
       "\n",
       "                                    Company_Overview  \\\n",
       "0  Company Overview,,,,,,,,,,,,,,,,,,,,,,,,,,,,,,...   \n",
       "1  Company Overview,,,,,,,,,,,,,,,,,,,,,,,,,,,,,,...   \n",
       "2  Company Overview,,,,,,,,,,,,,,,,,,,,,,,,,,,,,,...   \n",
       "3  Company Overview,,,,,,,,,,,,,,,,,,,,,,,,,,,,,,...   \n",
       "4  Company Overview,,,,,,,,,,,,,,,,,,,,,,,,,,,,,,...   \n",
       "\n",
       "                                     Job_description  \\\n",
       "0  Java, Bigdata, Azure & Flink,,,,,,,,,,,,,,,,,,...   \n",
       "1  We Are Overstock:,,,,,,,,,,,,,,,,,,,,,,,,,,,,,...   \n",
       "2  Job Details,,,,,,,,,,,,,,,,,,,,,,,,,,,,,,,,,,,...   \n",
       "3  SUMMARY:,,,,,,,,,,,,,,,,,,,,,,,,,,,,,,,,,,,,,,...   \n",
       "4  Key Responsibilities,,,,,,,,,,,,,,,,,,,,,,,,,,...   \n",
       "\n",
       "  Avg_base_salary,,,,,,,,,,,,,,,,,,,,,,,,,,,,,,,,,,,,,,,,,,,,,,,,,,,,,,,,,,,,,,,,,,,,,,,,,,,,,,,,,,,,,,,,,,,,,,,,,,,,,,,,,,,,,,,,,,,,,,,,,,,,,,,,,,,,,,,,,,,,,,,,,,,,,,,,,,,,,,,,,,,,,,,,,,,,,,,,,,,,,,,,,,,,,,,,,,,,,,,,,,,,,,,  \n",
       "0  Average Base Salary Estimate,,,,,,,,,,,,,,,,,,...                                                                                                                                                                              \n",
       "1  Average Base Salary Estimate,,,,,,,,,,,,,,,,,,...                                                                                                                                                                              \n",
       "2  Average Base Salary Estimate,,,,,,,,,,,,,,,,,,...                                                                                                                                                                              \n",
       "3  Average Base Salary Estimate,,,,,,,,,,,,,,,,,,...                                                                                                                                                                              \n",
       "4  Average Base Salary Estimate,,,,,,,,,,,,,,,,,,...                                                                                                                                                                              "
      ]
     },
     "execution_count": 6,
     "metadata": {},
     "output_type": "execute_result"
    }
   ],
   "source": [
    "df.head()"
   ]
  },
  {
   "cell_type": "code",
   "execution_count": 8,
   "id": "c47fa9bb-39c8-4bf2-a881-cd0aa8050d30",
   "metadata": {},
   "outputs": [
    {
     "name": "stdout",
     "output_type": "stream",
     "text": [
      "<class 'pandas.core.frame.DataFrame'>\n",
      "RangeIndex: 3766 entries, 0 to 3765\n",
      "Data columns (total 8 columns):\n",
      " #   Column                                                                                                                                                                                                                          Non-Null Count  Dtype \n",
      "---  ------                                                                                                                                                                                                                          --------------  ----- \n",
      " 0   Job_title                                                                                                                                                                                                                       3766 non-null   object\n",
      " 1   Company_name                                                                                                                                                                                                                    3766 non-null   object\n",
      " 2   Location                                                                                                                                                                                                                        3762 non-null   object\n",
      " 3   Salary_fork                                                                                                                                                                                                                     3766 non-null   object\n",
      " 4   Rating                                                                                                                                                                                                                          3766 non-null   object\n",
      " 5   Company_Overview                                                                                                                                                                                                                3766 non-null   object\n",
      " 6   Job_description                                                                                                                                                                                                                 3761 non-null   object\n",
      " 7   Avg_base_salary,,,,,,,,,,,,,,,,,,,,,,,,,,,,,,,,,,,,,,,,,,,,,,,,,,,,,,,,,,,,,,,,,,,,,,,,,,,,,,,,,,,,,,,,,,,,,,,,,,,,,,,,,,,,,,,,,,,,,,,,,,,,,,,,,,,,,,,,,,,,,,,,,,,,,,,,,,,,,,,,,,,,,,,,,,,,,,,,,,,,,,,,,,,,,,,,,,,,,,,,,,,,,,,  3762 non-null   object\n",
      "dtypes: object(8)\n",
      "memory usage: 235.5+ KB\n"
     ]
    }
   ],
   "source": [
    "df.info()"
   ]
  },
  {
   "cell_type": "markdown",
   "id": "206cf2a6-c5d7-4a64-8239-a9fba87afe00",
   "metadata": {},
   "source": [
    "### 1. Create a function to generate ids and make a new column named JOB_ID using it.\n"
   ]
  },
  {
   "cell_type": "code",
   "execution_count": 10,
   "id": "6cf43e8f-b496-44b0-a06c-8fa57887eab5",
   "metadata": {},
   "outputs": [],
   "source": [
    "def generate_job_id(index):\n",
    "    \"\"\"Generates a unique job ID in the format JOB0001, JOB0002, etc.\"\"\"\n",
    "    return f\"JOB{str(index + 1).zfill(4)}\"\n",
    "\n",
    "# Assuming your DataFrame is named 'df'\n",
    "df['JOB_ID'] = df.index.map(generate_job_id)"
   ]
  },
  {
   "cell_type": "code",
   "execution_count": 12,
   "id": "f77e550f-543a-45fc-beaf-46c41f485c24",
   "metadata": {},
   "outputs": [
    {
     "data": {
      "text/plain": [
       "0    JOB0001\n",
       "1    JOB0002\n",
       "2    JOB0003\n",
       "3    JOB0004\n",
       "4    JOB0005\n",
       "Name: JOB_ID, dtype: object"
      ]
     },
     "execution_count": 12,
     "metadata": {},
     "output_type": "execute_result"
    }
   ],
   "source": [
    "df['JOB_ID'].head()"
   ]
  },
  {
   "cell_type": "markdown",
   "id": "7cfb49c1-b01d-400c-ae95-dbc5b8174a1b",
   "metadata": {},
   "source": [
    "### Checking Missing Values"
   ]
  },
  {
   "cell_type": "code",
   "execution_count": 14,
   "id": "08b059d1-7cc2-4e3e-bf93-df60fa0cc40b",
   "metadata": {},
   "outputs": [
    {
     "name": "stdout",
     "output_type": "stream",
     "text": [
      "Job_title                                                                                                                                                                                                                         0\n",
      "Company_name                                                                                                                                                                                                                      0\n",
      "Location                                                                                                                                                                                                                          4\n",
      "Salary_fork                                                                                                                                                                                                                       0\n",
      "Rating                                                                                                                                                                                                                            0\n",
      "Company_Overview                                                                                                                                                                                                                  0\n",
      "Job_description                                                                                                                                                                                                                   5\n",
      "Avg_base_salary,,,,,,,,,,,,,,,,,,,,,,,,,,,,,,,,,,,,,,,,,,,,,,,,,,,,,,,,,,,,,,,,,,,,,,,,,,,,,,,,,,,,,,,,,,,,,,,,,,,,,,,,,,,,,,,,,,,,,,,,,,,,,,,,,,,,,,,,,,,,,,,,,,,,,,,,,,,,,,,,,,,,,,,,,,,,,,,,,,,,,,,,,,,,,,,,,,,,,,,,,,,,,,,    4\n",
      "JOB_ID                                                                                                                                                                                                                            0\n",
      "dtype: int64\n"
     ]
    }
   ],
   "source": [
    "missing_values = df.isnull().sum()\n",
    "print(missing_values)"
   ]
  },
  {
   "cell_type": "markdown",
   "id": "4156fdfb-1f3f-42eb-927a-42a1921dcd6a",
   "metadata": {},
   "source": [
    "### Covert Job_description column data into String "
   ]
  },
  {
   "cell_type": "code",
   "execution_count": 16,
   "id": "bf1dd6e6-cf07-4511-8397-ba09b816f5a6",
   "metadata": {},
   "outputs": [],
   "source": [
    "df['Job_description'] = df['Job_description'].astype(str)"
   ]
  },
  {
   "cell_type": "markdown",
   "id": "070f86de-c32c-4e1d-91ab-6dc618ff315c",
   "metadata": {},
   "source": [
    "### 2. Create a function to clean the messy text and use this function to make a new column named Clean_Job_Descripton."
   ]
  },
  {
   "cell_type": "code",
   "execution_count": 26,
   "id": "94d4d153-20c2-4cbf-b413-ddfdb0bf29fa",
   "metadata": {},
   "outputs": [],
   "source": [
    "# Clean the Job_description column\n",
    "df['Clean_Job_description'] = df['Job_description'].str.replace('\\r\\n', '', regex=False).str.strip().str.replace('\"', '')\n",
    "df['Clean_Job_description'] = df['Clean_Job_description'].apply(lambda x: re.sub(r',+', '', str(x)))"
   ]
  },
  {
   "cell_type": "code",
   "execution_count": 28,
   "id": "788d1051-730a-4455-afd8-ca7e8321aab4",
   "metadata": {},
   "outputs": [
    {
     "data": {
      "text/plain": [
       "0    Java Bigdata Azure & FlinkFlink Sr. Developer ...\n",
       "1    We Are Overstock:At Overstock.com we believe t...\n",
       "2    Job DetailsDivision: Nucor Business Technology...\n",
       "3    SUMMARY:The Data Engineer 1 position will be p...\n",
       "4    Key ResponsibilitiesLeads development of repor...\n",
       "Name: Clean_Job_description, dtype: object"
      ]
     },
     "execution_count": 28,
     "metadata": {},
     "output_type": "execute_result"
    }
   ],
   "source": [
    "df['Clean_Job_description'].head()"
   ]
  },
  {
   "cell_type": "markdown",
   "id": "da9ff89e-e34e-41b5-9af1-aca694b9bb93",
   "metadata": {},
   "source": [
    "### 3. Create a function to filter out skills from the Clean_Job_Descripton column and make a separate column named skills that stores skills in a list format.\n"
   ]
  },
  {
   "cell_type": "code",
   "execution_count": 32,
   "id": "026f307d-1fbd-4ff9-b18c-fa06927ace38",
   "metadata": {},
   "outputs": [
    {
     "name": "stdout",
     "output_type": "stream",
     "text": [
      "0           [Java, Azure, Java, Java, Azure, Java, Azure]\n",
      "1       [SQL, SQL, GCP, Python, Java, C, machine learn...\n",
      "2       [SQL, Azure, SQL, Azure, DevOps, Agile, Azure,...\n",
      "3       [SQL, Agile, AWS, Azure, SQL, Agile, AWS, Azur...\n",
      "4       [Agile, Scrum, Agile, Scrum, SQL, SQL, SQL, Py...\n",
      "                              ...                        \n",
      "3761                              [SQL, SQL, SQL, Python]\n",
      "3762    [Python, SQL, project management, Agile, Pytho...\n",
      "3763    [data science, data science, data science, Pyt...\n",
      "3764    [SQL, SQL, SQL, SQL, SQL, Python, SQL, SQL, SQ...\n",
      "3765    [data science, SQL, Python, data science, SQL,...\n",
      "Name: Skills, Length: 3766, dtype: object\n"
     ]
    }
   ],
   "source": [
    "def extract_skills(Clean_Job_description):\n",
    "  \"\"\"Extracts skills from a job description string and returns them as a list.\n",
    "\n",
    "  Args:\n",
    "    job_description: The job description string.\n",
    "\n",
    "  Returns:\n",
    "    A list of extracted skills.\n",
    "  \"\"\"\n",
    "\n",
    "  # Define a regular expression pattern to match common skill words\n",
    "  skill_pattern = r\"\\b(Python|Java|C++|JavaScript|SQL|HTML|CSS|Machine Learning|Deep Learning|Data Science|Data Analytics|Cloud Computing|AWS|Azure|GCP|DevOps|Agile|Scrum|Project Management|Software Engineering)\\b\"\n",
    "\n",
    "  # Find all matches of the pattern in the job description\n",
    "  skills = re.findall(skill_pattern, Clean_Job_description, re.IGNORECASE)\n",
    "\n",
    "  return skills\n",
    "\n",
    "# Apply the extract_skills function to the Job_Description column and create a new Skills column\n",
    "df[\"Skills\"] = df[\"Clean_Job_description\"].apply(extract_skills)\n",
    "\n",
    "# Print the DataFrame with the extracted skills\n",
    "print(df[\"Skills\"])"
   ]
  },
  {
   "cell_type": "code",
   "execution_count": null,
   "id": "240cd429-5371-431b-834b-b7fddd4dc0a6",
   "metadata": {},
   "outputs": [],
   "source": []
  }
 ],
 "metadata": {
  "kernelspec": {
   "display_name": "Python 3 (ipykernel)",
   "language": "python",
   "name": "python3"
  },
  "language_info": {
   "codemirror_mode": {
    "name": "ipython",
    "version": 3
   },
   "file_extension": ".py",
   "mimetype": "text/x-python",
   "name": "python",
   "nbconvert_exporter": "python",
   "pygments_lexer": "ipython3",
   "version": "3.12.4"
  }
 },
 "nbformat": 4,
 "nbformat_minor": 5
}
